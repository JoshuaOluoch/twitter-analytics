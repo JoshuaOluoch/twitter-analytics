{
 "cells": [
  {
   "cell_type": "markdown",
   "id": "assigned-neighbor",
   "metadata": {},
   "source": [
    "# Twitter Pages Analytics"
   ]
  },
  {
   "cell_type": "markdown",
   "id": "tutorial-diamond",
   "metadata": {},
   "source": [
    "We will use tweepy python library to analyze twitter pages information. To do that we install \"tweepy\" package using pip as illustrated below"
   ]
  },
  {
   "cell_type": "code",
   "execution_count": 2,
   "id": "ancient-monkey",
   "metadata": {
    "scrolled": true
   },
   "outputs": [
    {
     "name": "stdout",
     "output_type": "stream",
     "text": [
      "Requirement already satisfied: tweepy in c:\\python310\\lib\\site-packages (4.3.0)\n",
      "Requirement already satisfied: requests-oauthlib<2,>=1.0.0 in c:\\python310\\lib\\site-packages (from tweepy) (1.3.0)\n",
      "Requirement already satisfied: requests<3,>=2.11.1 in c:\\python310\\lib\\site-packages (from tweepy) (2.26.0)\n",
      "Requirement already satisfied: idna<4,>=2.5 in c:\\python310\\lib\\site-packages (from requests<3,>=2.11.1->tweepy) (3.3)\n",
      "Requirement already satisfied: certifi>=2017.4.17 in c:\\python310\\lib\\site-packages (from requests<3,>=2.11.1->tweepy) (2021.10.8)\n",
      "Requirement already satisfied: charset-normalizer~=2.0.0 in c:\\python310\\lib\\site-packages (from requests<3,>=2.11.1->tweepy) (2.0.7)\n",
      "Requirement already satisfied: urllib3<1.27,>=1.21.1 in c:\\python310\\lib\\site-packages (from requests<3,>=2.11.1->tweepy) (1.26.7)\n",
      "Requirement already satisfied: oauthlib>=3.0.0 in c:\\python310\\lib\\site-packages (from requests-oauthlib<2,>=1.0.0->tweepy) (3.1.1)\n"
     ]
    },
    {
     "name": "stderr",
     "output_type": "stream",
     "text": [
      "WARNING: You are using pip version 21.2.3; however, version 21.3.1 is available.\n",
      "You should consider upgrading via the 'C:\\Python310\\python.exe -m pip install --upgrade pip' command.\n"
     ]
    }
   ],
   "source": [
    "#Install the latest version of \"tweepy\" library\n",
    "!pip install tweepy"
   ]
  },
  {
   "cell_type": "markdown",
   "id": "pharmaceutical-appearance",
   "metadata": {},
   "source": [
    "You will have to get api keys, api secrets and authentication tokens from https://developer.twitter.com/ to be able to do these anaytics"
   ]
  },
  {
   "cell_type": "code",
   "execution_count": 3,
   "id": "artistic-differential",
   "metadata": {},
   "outputs": [
    {
     "name": "stdout",
     "output_type": "stream",
     "text": [
      "Magoha hints at the return of corporal punishment in schools https://t.co/RNJkZ9IWLJ\n",
      "RT @jensstoltenberg: Spoke with President @AndrzejDuda about the serious situation at #Poland’s border. #Belarus using migrants as a hybrid…\n",
      "RT @PLinNATO: President @AndrzejDuda spoke with #NATO Secretary General @jensstoltenberg about the crisis on the 🇵🇱-🇧🇾 border.\n",
      "NATO is clos…\n",
      "The Nakuru senatorial race has attracted a huge field of business magnates and government technocrats and promises… https://t.co/p753ixPt3x\n",
      "Tuvalu looking at legal ways to be a state if it is submerged https://t.co/P6zNtzc45u https://t.co/kHiXHov5VB\n",
      "Supreme Court judges decline to withdraw from BBI case, hearing set for January https://t.co/TeDOIfJMC9\n",
      "At times, I don’t understand logic &amp; narrative of CNN reports on Ethiopia. Their latest reporting is that Ethiopia… https://t.co/7n4WF8rJXf\n",
      "The Nakuru senatorial race has attracted a huge field of business magnates and government technocrats and promises… https://t.co/wfT3kTUQVz\n",
      "RT @TheAfricaReport: #Canada’s Osino Resources says average annual gold production at  #Namibia’s Twin Hills, from year two to year six, is…\n",
      "The latest local news updates on #K24DailyBrief https://t.co/hS6C0FP9ZC\n",
      "Find a river...\n",
      "Run by it\n",
      "#feelgood\n",
      "X https://t.co/PNjlN9wjQ8\n",
      "This is Ladies Might and our rhymes are tight, oh this is ladies might! We heard you, The Ladies’ Might 2 Motor Exp… https://t.co/MATo401UPE\n",
      "Denmark, which has one of Europe’s highest vaccination rates, plans to re-introduce some restrictions to halt a rec… https://t.co/mW0JWQWed4\n",
      "11:53 @KamauKiserian   What happened to Cytonn? via @kenyankorean\n",
      "Curry explodes for 50 as Warriors stay hot in NBA\n",
      "https://t.co/TGKs2MzbJK https://t.co/rnkMUr9Fj9\n",
      "Meeting a delegation from the Lower Eastern region at Chungwa House, Nairobi County. \n",
      "\n",
      "#OneLove #Inawezekana https://t.co/y3bhfDGfUC\n",
      "The social media announcement sparked conservative backlash, including from Sen. Ted Cruz, who accused Big Bird of… https://t.co/eBYj6vcSsT\n",
      "Victims of crime could be left waiting for years for justice after Dominic Raab admitted he did not know how long i… https://t.co/VCZeE6tjps\n",
      "To Be Successful, Create Inertia https://t.co/S9n3cfSdHT\n",
      "3 children aged 7years, 2years and 10 months die in an inferno in Limuru\n",
      "\n",
      "https://t.co/jptcCoY0Vs https://t.co/cnhDYTaQUt\n"
     ]
    }
   ],
   "source": [
    "#Get the tweets in the timeline at the moment of the run\n",
    "import tweepy\n",
    "\n",
    "auth = tweepy.OAuthHandler(consumer_key, consumer_secret)\n",
    "auth.set_access_token(access_token, access_token_secret)\n",
    "\n",
    "api = tweepy.API(auth)\n",
    "\n",
    "public_tweets = api.home_timeline()\n",
    "for tweet in public_tweets:\n",
    "    print(tweet.text)"
   ]
  },
  {
   "cell_type": "markdown",
   "id": "pretty-alfred",
   "metadata": {},
   "source": [
    "We will use Safaricom PLC official twitter page as our the first twitter user to inspect"
   ]
  },
  {
   "cell_type": "code",
   "execution_count": 4,
   "id": "double-retirement",
   "metadata": {},
   "outputs": [],
   "source": [
    "#Get the information from a twitter user  (In this case we will use Safaricom PLC twitter official page)\n",
    "user = api.get_user(screen_name='@safaricomPLC')"
   ]
  },
  {
   "cell_type": "markdown",
   "id": "necessary-trouble",
   "metadata": {},
   "source": [
    "Let's print the twitter user handle and the followers account"
   ]
  },
  {
   "cell_type": "code",
   "execution_count": 5,
   "id": "after-interest",
   "metadata": {},
   "outputs": [
    {
     "name": "stdout",
     "output_type": "stream",
     "text": [
      "SafaricomPLC\n",
      "1638741\n"
     ]
    }
   ],
   "source": [
    "#Get the basic information from the user\n",
    "print(user.screen_name)\n",
    "print(user.followers_count)\n"
   ]
  },
  {
   "cell_type": "markdown",
   "id": "gorgeous-dryer",
   "metadata": {},
   "source": [
    "Let's also print the top followers of the page"
   ]
  },
  {
   "cell_type": "code",
   "execution_count": 6,
   "id": "automated-identity",
   "metadata": {},
   "outputs": [
    {
     "name": "stdout",
     "output_type": "stream",
     "text": [
      "mohndirangu\n",
      "sireliaph\n",
      "Spanish50548739\n",
      "wickie02\n",
      "zakariyahji\n",
      "chinmobster\n",
      "ke_adolf\n",
      "mwmabonga\n",
      "KoshRoba\n",
      "2Jerrykinyua\n",
      "Nelsonbob1\n",
      "DennisKimai1\n",
      "JerryCollinsCJ\n",
      "McCarthyWebb1\n",
      "Kijanayangu\n",
      "oukekennedy\n",
      "Murim1Alex\n",
      "Kingsaayakenya1\n",
      "TAlwayo\n",
      "Eddotieno\n"
     ]
    }
   ],
   "source": [
    "#Print the top followers of the twitter page/user\n",
    "for friend in user.friends():\n",
    "   print(friend.screen_name)"
   ]
  },
  {
   "cell_type": "markdown",
   "id": "worse-patrol",
   "metadata": {},
   "source": [
    "Get additional information from the twitter user"
   ]
  },
  {
   "cell_type": "code",
   "execution_count": 7,
   "id": "square-premium",
   "metadata": {},
   "outputs": [
    {
     "name": "stdout",
     "output_type": "stream",
     "text": [
      "True\n",
      "Kenya\n",
      "SafaricomPLC\n",
      "Safaricom PLC\n",
      "1638741\n",
      "78413\n",
      "588\n",
      "1542\n",
      "844146\n",
      "2010-02-26 08:28:15\n",
      "https://pbs.twimg.com/profile_images/1320977118969368577/afmPtoso_normal.jpg\n",
      "https://t.co/TGTa1s5IK2\n",
      "117685967\n",
      "The leading provider of converged communication solutions in Kenya. We're online 24/7 to serve you! Ask on @Safaricom_Care or #ChatWithZuri https://t.co/Piqm7EyVWW\n"
     ]
    }
   ],
   "source": [
    "#Let's get some basic information about the page's info\n",
    "print(user.verified) #If the user verified\n",
    "print(user.location) #Location of user\n",
    "print(user.screen_name) #Screen name\n",
    "print(user.name) #name of user\n",
    "print(user.followers_count) # The number of followers this account currently has. \n",
    "print(user.friends_count) # The number of users this account is following (AKA their “followings”)\n",
    "print(user.listed_count)#The number of public lists that this user is a member of\n",
    "print(user.favourites_count)#The number of Tweets this user has liked in the account’s lifetime.\n",
    "print(user.statuses_count)#The number of Tweets (including retweets) issued by the user\n",
    "print(user.created_at)#The UTC datetime that the user account was created on Twitter\n",
    "print(user.profile_image_url_https)#A HTTPS-based URL pointing to the user’s profile image\n",
    "print(user.url)#A URL provided by the user in association with their profile\n",
    "print(user.id_str) #The string representation of the unique identifier for this User\n",
    "print(user.description)#The user-defined UTF-8 string describing their account."
   ]
  },
  {
   "cell_type": "markdown",
   "id": "heated-monte",
   "metadata": {},
   "source": [
    "## Analytics on top Kenyan companies' twitter handles\n",
    "We will try and get insights from some top Kenyan companies' twitter handdles"
   ]
  },
  {
   "cell_type": "code",
   "execution_count": 8,
   "id": "regulated-shipping",
   "metadata": {},
   "outputs": [
    {
     "data": {
      "text/html": [
       "<div>\n",
       "<style scoped>\n",
       "    .dataframe tbody tr th:only-of-type {\n",
       "        vertical-align: middle;\n",
       "    }\n",
       "\n",
       "    .dataframe tbody tr th {\n",
       "        vertical-align: top;\n",
       "    }\n",
       "\n",
       "    .dataframe thead th {\n",
       "        text-align: right;\n",
       "    }\n",
       "</style>\n",
       "<table border=\"1\" class=\"dataframe\">\n",
       "  <thead>\n",
       "    <tr style=\"text-align: right;\">\n",
       "      <th></th>\n",
       "      <th>screen_name</th>\n",
       "      <th>name</th>\n",
       "      <th>verified</th>\n",
       "      <th>location</th>\n",
       "      <th>followers_count</th>\n",
       "      <th>friends_count</th>\n",
       "      <th>listed_count</th>\n",
       "      <th>favourites_count</th>\n",
       "      <th>statuses_count</th>\n",
       "      <th>created_at</th>\n",
       "      <th>profile_img_url</th>\n",
       "      <th>url</th>\n",
       "      <th>id_str</th>\n",
       "      <th>description</th>\n",
       "    </tr>\n",
       "  </thead>\n",
       "  <tbody>\n",
       "    <tr>\n",
       "      <th>0</th>\n",
       "      <td>SafaricomPLC</td>\n",
       "      <td>Safaricom PLC</td>\n",
       "      <td>True</td>\n",
       "      <td>Kenya</td>\n",
       "      <td>1638743</td>\n",
       "      <td>78413</td>\n",
       "      <td>588</td>\n",
       "      <td>1542</td>\n",
       "      <td>844148</td>\n",
       "      <td>2010-02-26 08:28:15</td>\n",
       "      <td>https://pbs.twimg.com/profile_images/132097711...</td>\n",
       "      <td>https://t.co/TGTa1s5IK2</td>\n",
       "      <td>117685967</td>\n",
       "      <td>The leading provider of converged communicatio...</td>\n",
       "    </tr>\n",
       "    <tr>\n",
       "      <th>1</th>\n",
       "      <td>KeEquityBank</td>\n",
       "      <td>Equity Bank Kenya</td>\n",
       "      <td>True</td>\n",
       "      <td>KENYA</td>\n",
       "      <td>317622</td>\n",
       "      <td>8530</td>\n",
       "      <td>160</td>\n",
       "      <td>714</td>\n",
       "      <td>220021</td>\n",
       "      <td>2012-11-05 08:10:55</td>\n",
       "      <td>https://pbs.twimg.com/profile_images/139171587...</td>\n",
       "      <td>https://t.co/GGQHtA8jWs</td>\n",
       "      <td>927151099</td>\n",
       "      <td>Official twitter page for Equity Bank Kenya – ...</td>\n",
       "    </tr>\n",
       "    <tr>\n",
       "      <th>2</th>\n",
       "      <td>AIRTEL_KE</td>\n",
       "      <td>Airtel Kenya</td>\n",
       "      <td>True</td>\n",
       "      <td>Kenya</td>\n",
       "      <td>486746</td>\n",
       "      <td>8684</td>\n",
       "      <td>205</td>\n",
       "      <td>366</td>\n",
       "      <td>997591</td>\n",
       "      <td>2010-09-17 08:50:27</td>\n",
       "      <td>https://pbs.twimg.com/profile_images/783660189...</td>\n",
       "      <td>https://t.co/uBs8x5assX</td>\n",
       "      <td>191765987</td>\n",
       "      <td>Get in touch. Speak from the heart. Seal the d...</td>\n",
       "    </tr>\n",
       "    <tr>\n",
       "      <th>3</th>\n",
       "      <td>TotalEnergiesKE</td>\n",
       "      <td>TotalEnergies Kenya</td>\n",
       "      <td>True</td>\n",
       "      <td>Kenya</td>\n",
       "      <td>31329</td>\n",
       "      <td>1482</td>\n",
       "      <td>26</td>\n",
       "      <td>3761</td>\n",
       "      <td>16112</td>\n",
       "      <td>2012-08-07 08:01:08</td>\n",
       "      <td>https://pbs.twimg.com/profile_images/140040961...</td>\n",
       "      <td>https://t.co/K6WU4avlIH</td>\n",
       "      <td>742426236</td>\n",
       "      <td>TotalEnergies is a broad energy company that p...</td>\n",
       "    </tr>\n",
       "    <tr>\n",
       "      <th>4</th>\n",
       "      <td>KCBGroup</td>\n",
       "      <td>KCB Group</td>\n",
       "      <td>True</td>\n",
       "      <td>East Africa</td>\n",
       "      <td>484791</td>\n",
       "      <td>21479</td>\n",
       "      <td>225</td>\n",
       "      <td>8040</td>\n",
       "      <td>282117</td>\n",
       "      <td>2010-10-10 20:11:48</td>\n",
       "      <td>https://pbs.twimg.com/profile_images/111155295...</td>\n",
       "      <td>https://t.co/qpf3uuxnuL</td>\n",
       "      <td>200988657</td>\n",
       "      <td>KCB Group is banking on you to be here for lif...</td>\n",
       "    </tr>\n",
       "    <tr>\n",
       "      <th>5</th>\n",
       "      <td>KenyaAirways</td>\n",
       "      <td>Kenya Airways</td>\n",
       "      <td>True</td>\n",
       "      <td>Nairobi,Kenya</td>\n",
       "      <td>850507</td>\n",
       "      <td>7092</td>\n",
       "      <td>1256</td>\n",
       "      <td>21229</td>\n",
       "      <td>71940</td>\n",
       "      <td>2008-12-31 00:19:13</td>\n",
       "      <td>https://pbs.twimg.com/profile_images/110508838...</td>\n",
       "      <td>None</td>\n",
       "      <td>18493366</td>\n",
       "      <td>Africa's Leading Airline, The Pride Of Africa!</td>\n",
       "    </tr>\n",
       "    <tr>\n",
       "      <th>6</th>\n",
       "      <td>EABL_PLC</td>\n",
       "      <td>East African Breweries PLC</td>\n",
       "      <td>True</td>\n",
       "      <td>Kenya</td>\n",
       "      <td>8161</td>\n",
       "      <td>36</td>\n",
       "      <td>7</td>\n",
       "      <td>269</td>\n",
       "      <td>796</td>\n",
       "      <td>2019-01-25 09:44:23</td>\n",
       "      <td>https://pbs.twimg.com/profile_images/120540597...</td>\n",
       "      <td>https://t.co/JXusK94i2H</td>\n",
       "      <td>1088734316606251009</td>\n",
       "      <td>Official EABL Page. Africa's leading branded a...</td>\n",
       "    </tr>\n",
       "    <tr>\n",
       "      <th>7</th>\n",
       "      <td>JubileeInsKE</td>\n",
       "      <td>Jubilee Insurance</td>\n",
       "      <td>True</td>\n",
       "      <td>Nairobi, Kenya</td>\n",
       "      <td>18869</td>\n",
       "      <td>1035</td>\n",
       "      <td>32</td>\n",
       "      <td>1908</td>\n",
       "      <td>15951</td>\n",
       "      <td>2012-01-17 17:35:37</td>\n",
       "      <td>https://pbs.twimg.com/profile_images/786207595...</td>\n",
       "      <td>https://t.co/bcaSsUYf4S</td>\n",
       "      <td>466680439</td>\n",
       "      <td>Jubilee is the number one insurer in East Afri...</td>\n",
       "    </tr>\n",
       "    <tr>\n",
       "      <th>8</th>\n",
       "      <td>BritamEA</td>\n",
       "      <td>Britam Cares</td>\n",
       "      <td>True</td>\n",
       "      <td>East &amp; Southern Africa</td>\n",
       "      <td>25805</td>\n",
       "      <td>1228</td>\n",
       "      <td>66</td>\n",
       "      <td>1802</td>\n",
       "      <td>10317</td>\n",
       "      <td>2010-11-04 08:09:45</td>\n",
       "      <td>https://pbs.twimg.com/profile_images/378800000...</td>\n",
       "      <td>https://t.co/jC07s0idXd</td>\n",
       "      <td>211791426</td>\n",
       "      <td>Britam is a leading diversified financial serv...</td>\n",
       "    </tr>\n",
       "  </tbody>\n",
       "</table>\n",
       "</div>"
      ],
      "text/plain": [
       "       screen_name                        name  verified  \\\n",
       "0     SafaricomPLC               Safaricom PLC      True   \n",
       "1     KeEquityBank           Equity Bank Kenya      True   \n",
       "2        AIRTEL_KE                Airtel Kenya      True   \n",
       "3  TotalEnergiesKE         TotalEnergies Kenya      True   \n",
       "4         KCBGroup                   KCB Group      True   \n",
       "5     KenyaAirways               Kenya Airways      True   \n",
       "6         EABL_PLC  East African Breweries PLC      True   \n",
       "7     JubileeInsKE           Jubilee Insurance      True   \n",
       "8         BritamEA                Britam Cares      True   \n",
       "\n",
       "                 location  followers_count  friends_count  listed_count  \\\n",
       "0                   Kenya          1638743          78413           588   \n",
       "1                   KENYA           317622           8530           160   \n",
       "2                   Kenya           486746           8684           205   \n",
       "3                   Kenya            31329           1482            26   \n",
       "4             East Africa           484791          21479           225   \n",
       "5           Nairobi,Kenya           850507           7092          1256   \n",
       "6                   Kenya             8161             36             7   \n",
       "7          Nairobi, Kenya            18869           1035            32   \n",
       "8  East & Southern Africa            25805           1228            66   \n",
       "\n",
       "   favourites_count  statuses_count          created_at  \\\n",
       "0              1542          844148 2010-02-26 08:28:15   \n",
       "1               714          220021 2012-11-05 08:10:55   \n",
       "2               366          997591 2010-09-17 08:50:27   \n",
       "3              3761           16112 2012-08-07 08:01:08   \n",
       "4              8040          282117 2010-10-10 20:11:48   \n",
       "5             21229           71940 2008-12-31 00:19:13   \n",
       "6               269             796 2019-01-25 09:44:23   \n",
       "7              1908           15951 2012-01-17 17:35:37   \n",
       "8              1802           10317 2010-11-04 08:09:45   \n",
       "\n",
       "                                     profile_img_url                      url  \\\n",
       "0  https://pbs.twimg.com/profile_images/132097711...  https://t.co/TGTa1s5IK2   \n",
       "1  https://pbs.twimg.com/profile_images/139171587...  https://t.co/GGQHtA8jWs   \n",
       "2  https://pbs.twimg.com/profile_images/783660189...  https://t.co/uBs8x5assX   \n",
       "3  https://pbs.twimg.com/profile_images/140040961...  https://t.co/K6WU4avlIH   \n",
       "4  https://pbs.twimg.com/profile_images/111155295...  https://t.co/qpf3uuxnuL   \n",
       "5  https://pbs.twimg.com/profile_images/110508838...                     None   \n",
       "6  https://pbs.twimg.com/profile_images/120540597...  https://t.co/JXusK94i2H   \n",
       "7  https://pbs.twimg.com/profile_images/786207595...  https://t.co/bcaSsUYf4S   \n",
       "8  https://pbs.twimg.com/profile_images/378800000...  https://t.co/jC07s0idXd   \n",
       "\n",
       "                id_str                                        description  \n",
       "0            117685967  The leading provider of converged communicatio...  \n",
       "1            927151099  Official twitter page for Equity Bank Kenya – ...  \n",
       "2            191765987  Get in touch. Speak from the heart. Seal the d...  \n",
       "3            742426236  TotalEnergies is a broad energy company that p...  \n",
       "4            200988657  KCB Group is banking on you to be here for lif...  \n",
       "5             18493366     Africa's Leading Airline, The Pride Of Africa!  \n",
       "6  1088734316606251009  Official EABL Page. Africa's leading branded a...  \n",
       "7            466680439  Jubilee is the number one insurer in East Afri...  \n",
       "8            211791426  Britam is a leading diversified financial serv...  "
      ]
     },
     "execution_count": 8,
     "metadata": {},
     "output_type": "execute_result"
    }
   ],
   "source": [
    "# Let's get this information for a list of top Kenyan companies twitter handles (Replace these with your own Twitter pages)\n",
    "companies = [\"@safaricomPLC\",\"@KeEquityBank\",\"AIRTEL_KE\",\"@TotalEnergiesKE\",\"@KCBGroup\",\"@KenyaAirways\",\"@EABL_PLC\",\"JubileeInsKE\",\"@BritamEA\"]\n",
    "\n",
    "#Create empty lists to store the information of the above \n",
    "screen_name = [];name = [];verified=[];location=[];followers_count=[];friends_count=[];listed_count=[];favourites_count=[]\n",
    "statuses_count = [];created_at = []; profile_img_url=[];url = [];id_str=[];description=[]\n",
    "\n",
    "#Create a loop to store the different tweet info of the pages above\n",
    "for i in companies:\n",
    "    user = api.get_user(screen_name=i)\n",
    "    \n",
    "    #Extract information from the twitter user\n",
    "    screen_name.append(user.screen_name)\n",
    "    name.append(user.name)\n",
    "    verified.append(user.verified)\n",
    "    location.append(user.location)\n",
    "    followers_count.append(user.followers_count)\n",
    "    friends_count.append(user.friends_count)\n",
    "    listed_count.append(user.listed_count)\n",
    "    favourites_count.append(user.favourites_count)\n",
    "    statuses_count.append(user.statuses_count)\n",
    "    created_at.append(user.created_at)\n",
    "    profile_img_url.append(user.profile_image_url_https)\n",
    "    url.append(user.url)\n",
    "    id_str.append(user.id_str)\n",
    "    description.append(user.description)\n",
    "\n",
    "#Create a dictionary using the lists    \n",
    "tweet_dict = {'screen_name':screen_name, 'name':name, 'verified':verified,'location':location,\n",
    "             'followers_count':followers_count, 'friends_count':friends_count,'listed_count':listed_count,\n",
    "             'favourites_count':favourites_count, 'statuses_count':statuses_count, 'created_at':created_at,\n",
    "             'profile_img_url':profile_img_url, 'url':url, 'id_str':id_str, 'description':description}\n",
    "\n",
    "#Use pandas to convert the dictionary to a pandas dataframe\n",
    "import pandas as pd\n",
    "\n",
    "tweet_df = pd.DataFrame.from_dict(tweet_dict)\n",
    "\n",
    "#View the top rows of the created dataframe\n",
    "tweet_df\n",
    "    "
   ]
  },
  {
   "cell_type": "markdown",
   "id": "adjusted-mistress",
   "metadata": {},
   "source": [
    "## Data Visualization\n",
    "We will visualize 'followers count','favourites count' and 'statuses count' of the various twitter handles "
   ]
  },
  {
   "cell_type": "code",
   "execution_count": 9,
   "id": "south-presence",
   "metadata": {},
   "outputs": [
    {
     "data": {
      "text/plain": [
       "<AxesSubplot:ylabel='name'>"
      ]
     },
     "execution_count": 9,
     "metadata": {},
     "output_type": "execute_result"
    },
    {
     "data": {
      "image/png": "[encoded data removed]",
      "text/plain": [
       "<Figure size 288x288 with 1 Axes>"
      ]
     },
     "metadata": {
      "needs_background": "light"
     },
     "output_type": "display_data"
    }
   ],
   "source": [
    "#Lets visualize some of the metrics\n",
    "\n",
    "#Followers count\n",
    "tweet_df.sort_values(by=['followers_count']).plot.barh(x='name',y='followers_count', figsize=(4, 4), rot=0)"
   ]
  },
  {
   "cell_type": "code",
   "execution_count": 10,
   "id": "adopted-heading",
   "metadata": {},
   "outputs": [
    {
     "data": {
      "text/plain": [
       "<AxesSubplot:ylabel='name'>"
      ]
     },
     "execution_count": 10,
     "metadata": {},
     "output_type": "execute_result"
    },
    {
     "data": {
      "image/png": "[encoded data removed]",
      "text/plain": [
       "<Figure size 288x288 with 1 Axes>"
      ]
     },
     "metadata": {
      "needs_background": "light"
     },
     "output_type": "display_data"
    }
   ],
   "source": [
    "tweet_df.sort_values(by=['favourites_count']).plot.barh(x='name',y='favourites_count', figsize=(4, 4), rot=0)"
   ]
  },
  {
   "cell_type": "code",
   "execution_count": 11,
   "id": "first-ordinary",
   "metadata": {},
   "outputs": [
    {
     "data": {
      "text/plain": [
       "<AxesSubplot:ylabel='name'>"
      ]
     },
     "execution_count": 11,
     "metadata": {},
     "output_type": "execute_result"
    },
    {
     "data": {
      "image/png": "[encoded data removed]",
      "text/plain": [
       "<Figure size 288x288 with 1 Axes>"
      ]
     },
     "metadata": {
      "needs_background": "light"
     },
     "output_type": "display_data"
    }
   ],
   "source": [
    "#df.sort_values(by=['col1'])\n",
    "tweet_df.sort_values(by=['statuses_count']).plot.barh(x='name',y='statuses_count', figsize=(4, 4), rot=0)"
   ]
  },
  {
   "cell_type": "code",
   "execution_count": 29,
   "id": "flying-egyptian",
   "metadata": {},
   "outputs": [],
   "source": [
    "#Once we are satisfied with our results, we can download the data as csv or excel\n",
    "tweet_df.to_csv('tweets_info.csv')\n"
   ]
  }
 ],
 "metadata": {
  "kernelspec": {
   "display_name": "Python 3",
   "language": "python",
   "name": "python3"
  },
  "language_info": {
   "codemirror_mode": {
    "name": "ipython",
    "version": 3
   },
   "file_extension": ".py",
   "mimetype": "text/x-python",
   "name": "python",
   "nbconvert_exporter": "python",
   "pygments_lexer": "ipython3",
   "version": "3.9.6"
  }
 },
 "nbformat": 4,
 "nbformat_minor": 5
}
